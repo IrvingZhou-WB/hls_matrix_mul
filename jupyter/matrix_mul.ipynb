{
 "cells": [
  {
   "cell_type": "markdown",
   "metadata": {},
   "source": [
    "# 使用vitis hls设计矩阵乘法器\n",
    "# 01: Python运行矩阵乘法\n",
    "> 该实验改编自Xilinx的ug871的矩阵乘法的例程，使用Xilinx Vitis HLS生成的矩阵乘法 IP 来进行3*3矩阵乘法操作\n"
   ]
  },
  {
   "cell_type": "code",
   "execution_count": 1,
   "metadata": {},
   "outputs": [
    {
     "name": "stdout",
     "output_type": "stream",
     "text": [
      "[[-1  0  3]\n",
      " [ 0  1  0]\n",
      " [ 1  2  0]]\n",
      "耗时：0.004723548889160156s\n"
     ]
    }
   ],
   "source": [
    "import numpy as np\n",
    "import time\n",
    "start_time = time.time()\n",
    "a = np.array([[-1,1,1],[0,1,-1],[1,1,0]])\n",
    "b = np.array([[1,1,-1],[0,1,1],[0,0,1]])\n",
    "py_result = a@b\n",
    "print(py_result)\n",
    "end_time = time.time()\n",
    "\n",
    "print(\"耗时：{}s\".format(end_time - start_time))"
   ]
  },
  {
   "cell_type": "markdown",
   "metadata": {},
   "source": [
    "# 02：导入硬件，进行验证"
   ]
  },
  {
   "cell_type": "code",
   "execution_count": 2,
   "metadata": {},
   "outputs": [
    {
     "data": {
      "application/javascript": "\ntry {\nrequire(['notebook/js/codecell'], function(codecell) {\n  codecell.CodeCell.options_default.highlight_modes[\n      'magic_text/x-csrc'] = {'reg':[/^%%microblaze/]};\n  Jupyter.notebook.events.one('kernel_ready.Kernel', function(){\n      Jupyter.notebook.get_cells().map(function(cell){\n          if (cell.cell_type == 'code'){ cell.auto_highlight(); } }) ;\n  });\n});\n} catch (e) {};\n"
     },
     "metadata": {},
     "output_type": "display_data"
    },
    {
     "data": {
      "application/javascript": "\ntry {\nrequire(['notebook/js/codecell'], function(codecell) {\n  codecell.CodeCell.options_default.highlight_modes[\n      'magic_text/x-csrc'] = {'reg':[/^%%pybind11/]};\n  Jupyter.notebook.events.one('kernel_ready.Kernel', function(){\n      Jupyter.notebook.get_cells().map(function(cell){\n          if (cell.cell_type == 'code'){ cell.auto_highlight(); } }) ;\n  });\n});\n} catch (e) {};\n"
     },
     "metadata": {},
     "output_type": "display_data"
    }
   ],
   "source": [
    "from pynq import Overlay\n",
    "overlay = Overlay(\"./matrix_mul.bit\")\n",
    "mat = overlay.matrix_mul_0"
   ]
  },
  {
   "cell_type": "markdown",
   "metadata": {},
   "source": [
    "### 分配内存供IP使用\n",
    "`pynq.allocate`函数用于为PL中的IP分配可以使用的内存空间。\n",
    "- 在PL中的IP访问DRAM之前，必须为其保留一些内存供IP使用，分配大小与地址\n",
    "- 我们分别为输入、输出分配内存，数据类型为int8\n",
    "- `pynq.allocate`会分配物理上的连续内存，并返回一个`pynq.Buffer`表示已经分配缓冲区的对象"
   ]
  },
  {
   "cell_type": "code",
   "execution_count": 3,
   "metadata": {},
   "outputs": [],
   "source": [
    "from pynq import allocate\n",
    "a_buffer = allocate(shape=(3,3,), dtype='i1')\n",
    "b_buffer = allocate(shape=(3,3,), dtype='i1')\n",
    "res_buffer = allocate(shape=(3,3,), dtype='i2')"
   ]
  },
  {
   "cell_type": "code",
   "execution_count": 4,
   "metadata": {},
   "outputs": [
    {
     "name": "stdout",
     "output_type": "stream",
     "text": [
      "[[-1  1  1]\n",
      " [ 0  1 -1]\n",
      " [ 1  1  0]]\n",
      "[[ 1  1 -1]\n",
      " [ 0  1  1]\n",
      " [ 0  0  1]]\n",
      "[[0 0 0]\n",
      " [0 0 0]\n",
      " [0 0 0]]\n"
     ]
    }
   ],
   "source": [
    "np.copyto(a_buffer, a)\n",
    "np.copyto(b_buffer, b)\n",
    "np.copyto(res_buffer, np.array([[0,0,0],[0,0,0],[0,0,0]]))\n",
    "print(a_buffer)\n",
    "print(b_buffer)\n",
    "print(res_buffer)"
   ]
  },
  {
   "cell_type": "markdown",
   "metadata": {},
   "source": [
    "### 配置IP\n",
    "\n",
    "我们可以直接使用IP的`write`方法，将刚分配的内存空间的地址写入到IP对应位置上"
   ]
  },
  {
   "cell_type": "code",
   "execution_count": 5,
   "metadata": {},
   "outputs": [],
   "source": [
    "mat.s_axi_control.write(0x10,a_buffer.physical_address)\n",
    "mat.s_axi_control.write(0x1c,b_buffer.physical_address)\n",
    "mat.s_axi_control.write(0x28,res_buffer.physical_address)"
   ]
  },
  {
   "cell_type": "markdown",
   "metadata": {},
   "source": [
    "### 启动IP\n",
    "\n",
    "控制信号位于0x00地址，我们可以对其进行写入与读取来控制IP启动、监听是否完成。"
   ]
  },
  {
   "cell_type": "code",
   "execution_count": 6,
   "metadata": {},
   "outputs": [
    {
     "name": "stdout",
     "output_type": "stream",
     "text": [
      "耗时：0.0010275840759277344s\n"
     ]
    }
   ],
   "source": [
    "import time\n",
    "\n",
    "mat.s_axi_CTRL.write(0x00, 0x01)\n",
    "start_time = time.time()\n",
    "while True:\n",
    "    reg = mat.s_axi_CTRL.read(0x00)\n",
    "    if reg != 1:\n",
    "        break\n",
    "end_time = time.time()\n",
    "\n",
    "print(\"耗时：{}s\".format(end_time - start_time))"
   ]
  },
  {
   "cell_type": "markdown",
   "metadata": {},
   "source": [
    "结果已经被写入到了`res_buffer`中，我们可以进行查看"
   ]
  },
  {
   "cell_type": "code",
   "execution_count": 7,
   "metadata": {},
   "outputs": [
    {
     "name": "stdout",
     "output_type": "stream",
     "text": [
      "[[-1  0  3]\n",
      " [ 0  1  0]\n",
      " [ 1  2  0]]\n",
      "[[-1  0  3]\n",
      " [ 0  1  0]\n",
      " [ 1  2  0]]\n"
     ]
    }
   ],
   "source": [
    "print(py_result)\n",
    "print(res_buffer)"
   ]
  },
  {
   "cell_type": "code",
   "execution_count": null,
   "metadata": {},
   "outputs": [],
   "source": []
  }
 ],
 "metadata": {
  "kernelspec": {
   "display_name": "Python 3",
   "language": "python",
   "name": "python3"
  },
  "language_info": {
   "codemirror_mode": {
    "name": "ipython",
    "version": 3
   },
   "file_extension": ".py",
   "mimetype": "text/x-python",
   "name": "python",
   "nbconvert_exporter": "python",
   "pygments_lexer": "ipython3",
   "version": "3.8.12"
  }
 },
 "nbformat": 4,
 "nbformat_minor": 4
}
